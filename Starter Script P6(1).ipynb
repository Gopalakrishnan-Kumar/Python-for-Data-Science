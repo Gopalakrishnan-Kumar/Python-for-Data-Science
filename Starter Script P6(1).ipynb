{
 "cells": [
  {
   "cell_type": "markdown",
   "metadata": {},
   "source": [
    "# Read this first \n",
    "\n",
    "* each comment and text line added here is important and relevant , dont skim through just the code\n",
    "* if the comment asks you to revisit some concepts/modules , do so\n",
    "* this is not complete code on its own , you need to fill in your own code to eventually start building a better model"
   ]
  },
  {
   "cell_type": "code",
   "execution_count": 1,
   "metadata": {},
   "outputs": [],
   "source": [
    "import warnings\n",
    "warnings.filterwarnings('ignore')\n",
    "import pandas as pd\n",
    "import numpy as np"
   ]
  },
  {
   "cell_type": "code",
   "execution_count": 2,
   "metadata": {},
   "outputs": [],
   "source": [
    "datafile_train=\"train.csv\"\n",
    "datafile_test=\"test_share.csv\"\n",
    "bd_train=pd.read_csv(datafile_train)\n",
    "bd_test=pd.read_csv(datafile_test)"
   ]
  },
  {
   "cell_type": "code",
   "execution_count": 3,
   "metadata": {},
   "outputs": [],
   "source": [
    "# you have been given additional data files which contain information about patient's \n",
    "# medical and demographic details . we'll merge those details with train and test \n",
    "# files using a common unique identifier \n",
    "b\n"
   ]
  },
  {
   "cell_type": "code",
   "execution_count": 4,
   "metadata": {},
   "outputs": [],
   "source": [
    "medical_hist='medical_history.csv'\n",
    "demo_det='demographic_details.csv'"
   ]
  },
  {
   "cell_type": "code",
   "execution_count": 5,
   "metadata": {},
   "outputs": [],
   "source": [
    "med=pd.read_csv(medical_hist)"
   ]
  },
  {
   "cell_type": "code",
   "execution_count": 6,
   "metadata": {},
   "outputs": [],
   "source": [
    "dem=pd.read_csv(demo_det)"
   ]
  },
  {
   "cell_type": "code",
   "execution_count": 7,
   "metadata": {},
   "outputs": [],
   "source": [
    "# both the datasets have patient id as unique identifier "
   ]
  },
  {
   "cell_type": "code",
   "execution_count": 8,
   "metadata": {},
   "outputs": [
    {
     "data": {
      "text/plain": [
       "PatientId       62299\n",
       "Hipertension        2\n",
       "Diabetes            2\n",
       "Alcoholism          2\n",
       "Handcap             5\n",
       "dtype: int64"
      ]
     },
     "execution_count": 8,
     "metadata": {},
     "output_type": "execute_result"
    }
   ],
   "source": [
    "med.nunique()"
   ]
  },
  {
   "cell_type": "code",
   "execution_count": 9,
   "metadata": {},
   "outputs": [
    {
     "data": {
      "text/plain": [
       "PatientId        62299\n",
       "Gender               2\n",
       "Age                104\n",
       "Neighbourhood       81\n",
       "Scholarship          2\n",
       "dtype: int64"
      ]
     },
     "execution_count": 9,
     "metadata": {},
     "output_type": "execute_result"
    }
   ],
   "source": [
    "dem.nunique()"
   ]
  },
  {
   "cell_type": "code",
   "execution_count": 10,
   "metadata": {},
   "outputs": [],
   "source": [
    "# note that this patient info is for both train and test"
   ]
  },
  {
   "cell_type": "code",
   "execution_count": 64,
   "metadata": {},
   "outputs": [],
   "source": [
    "comb=pd.merge(med,dem,how='outer',on='PatientId')"
   ]
  },
  {
   "cell_type": "code",
   "execution_count": 65,
   "metadata": {},
   "outputs": [
    {
     "data": {
      "text/html": [
       "<div>\n",
       "<style scoped>\n",
       "    .dataframe tbody tr th:only-of-type {\n",
       "        vertical-align: middle;\n",
       "    }\n",
       "\n",
       "    .dataframe tbody tr th {\n",
       "        vertical-align: top;\n",
       "    }\n",
       "\n",
       "    .dataframe thead th {\n",
       "        text-align: right;\n",
       "    }\n",
       "</style>\n",
       "<table border=\"1\" class=\"dataframe\">\n",
       "  <thead>\n",
       "    <tr style=\"text-align: right;\">\n",
       "      <th></th>\n",
       "      <th>PatientId</th>\n",
       "      <th>Hipertension</th>\n",
       "      <th>Diabetes</th>\n",
       "      <th>Alcoholism</th>\n",
       "      <th>Handcap</th>\n",
       "      <th>Gender</th>\n",
       "      <th>Age</th>\n",
       "      <th>Neighbourhood</th>\n",
       "      <th>Scholarship</th>\n",
       "    </tr>\n",
       "  </thead>\n",
       "  <tbody>\n",
       "    <tr>\n",
       "      <th>0</th>\n",
       "      <td>2.987250e+13</td>\n",
       "      <td>1</td>\n",
       "      <td>0</td>\n",
       "      <td>0</td>\n",
       "      <td>0</td>\n",
       "      <td>F</td>\n",
       "      <td>62</td>\n",
       "      <td>JARDIM DA PENHA</td>\n",
       "      <td>0</td>\n",
       "    </tr>\n",
       "    <tr>\n",
       "      <th>1</th>\n",
       "      <td>5.589978e+14</td>\n",
       "      <td>0</td>\n",
       "      <td>0</td>\n",
       "      <td>0</td>\n",
       "      <td>0</td>\n",
       "      <td>M</td>\n",
       "      <td>56</td>\n",
       "      <td>JARDIM DA PENHA</td>\n",
       "      <td>0</td>\n",
       "    </tr>\n",
       "    <tr>\n",
       "      <th>2</th>\n",
       "      <td>4.262962e+12</td>\n",
       "      <td>0</td>\n",
       "      <td>0</td>\n",
       "      <td>0</td>\n",
       "      <td>0</td>\n",
       "      <td>F</td>\n",
       "      <td>62</td>\n",
       "      <td>MATA DA PRAIA</td>\n",
       "      <td>0</td>\n",
       "    </tr>\n",
       "    <tr>\n",
       "      <th>3</th>\n",
       "      <td>8.679512e+11</td>\n",
       "      <td>0</td>\n",
       "      <td>0</td>\n",
       "      <td>0</td>\n",
       "      <td>0</td>\n",
       "      <td>F</td>\n",
       "      <td>8</td>\n",
       "      <td>PONTAL DE CAMBURI</td>\n",
       "      <td>0</td>\n",
       "    </tr>\n",
       "    <tr>\n",
       "      <th>4</th>\n",
       "      <td>8.841186e+12</td>\n",
       "      <td>1</td>\n",
       "      <td>1</td>\n",
       "      <td>0</td>\n",
       "      <td>0</td>\n",
       "      <td>F</td>\n",
       "      <td>56</td>\n",
       "      <td>JARDIM DA PENHA</td>\n",
       "      <td>0</td>\n",
       "    </tr>\n",
       "  </tbody>\n",
       "</table>\n",
       "</div>"
      ],
      "text/plain": [
       "      PatientId  Hipertension  Diabetes  Alcoholism  Handcap Gender  Age  \\\n",
       "0  2.987250e+13             1         0           0        0      F   62   \n",
       "1  5.589978e+14             0         0           0        0      M   56   \n",
       "2  4.262962e+12             0         0           0        0      F   62   \n",
       "3  8.679512e+11             0         0           0        0      F    8   \n",
       "4  8.841186e+12             1         1           0        0      F   56   \n",
       "\n",
       "       Neighbourhood  Scholarship  \n",
       "0    JARDIM DA PENHA            0  \n",
       "1    JARDIM DA PENHA            0  \n",
       "2      MATA DA PRAIA            0  \n",
       "3  PONTAL DE CAMBURI            0  \n",
       "4    JARDIM DA PENHA            0  "
      ]
     },
     "execution_count": 65,
     "metadata": {},
     "output_type": "execute_result"
    }
   ],
   "source": [
    "comb.head()"
   ]
  },
  {
   "cell_type": "code",
   "execution_count": 81,
   "metadata": {},
   "outputs": [],
   "source": [
    "comb1 = comb[comb[\"Gender\"]=='M']\n",
    "comb2 = comb[comb[\"Gender\"]=='F']\n",
    "comb1 = np.mean(comb1[\"Age\"]) # average\n",
    "comb2 = np.mean(comb2[\"Age\"])"
   ]
  },
  {
   "cell_type": "code",
   "execution_count": 82,
   "metadata": {},
   "outputs": [
    {
     "data": {
      "text/plain": [
       "33.32750640363097"
      ]
     },
     "execution_count": 82,
     "metadata": {},
     "output_type": "execute_result"
    }
   ],
   "source": [
    "comb1"
   ]
  },
  {
   "cell_type": "code",
   "execution_count": 83,
   "metadata": {},
   "outputs": [
    {
     "data": {
      "text/plain": [
       "38.58165609549019"
      ]
     },
     "execution_count": 83,
     "metadata": {},
     "output_type": "execute_result"
    }
   ],
   "source": [
    "comb2"
   ]
  },
  {
   "cell_type": "code",
   "execution_count": 62,
   "metadata": {},
   "outputs": [
    {
     "data": {
      "text/plain": [
       "7"
      ]
     },
     "execution_count": 62,
     "metadata": {},
     "output_type": "execute_result"
    }
   ],
   "source": [
    "round(len(comb1)/len(comb)*100)"
   ]
  },
  {
   "cell_type": "code",
   "execution_count": 13,
   "metadata": {},
   "outputs": [
    {
     "data": {
      "text/html": [
       "<div>\n",
       "<style scoped>\n",
       "    .dataframe tbody tr th:only-of-type {\n",
       "        vertical-align: middle;\n",
       "    }\n",
       "\n",
       "    .dataframe tbody tr th {\n",
       "        vertical-align: top;\n",
       "    }\n",
       "\n",
       "    .dataframe thead th {\n",
       "        text-align: right;\n",
       "    }\n",
       "</style>\n",
       "<table border=\"1\" class=\"dataframe\">\n",
       "  <thead>\n",
       "    <tr style=\"text-align: right;\">\n",
       "      <th></th>\n",
       "      <th>PatientId</th>\n",
       "      <th>AppointmentID</th>\n",
       "      <th>ScheduledDay</th>\n",
       "      <th>AppointmentDay</th>\n",
       "      <th>SMS_received</th>\n",
       "      <th>No-show</th>\n",
       "    </tr>\n",
       "  </thead>\n",
       "  <tbody>\n",
       "    <tr>\n",
       "      <th>0</th>\n",
       "      <td>2.987250e+13</td>\n",
       "      <td>5642903</td>\n",
       "      <td>2016-04-29T18:38:08Z</td>\n",
       "      <td>2016-04-29T00:00:00Z</td>\n",
       "      <td>0</td>\n",
       "      <td>No</td>\n",
       "    </tr>\n",
       "    <tr>\n",
       "      <th>1</th>\n",
       "      <td>5.589978e+14</td>\n",
       "      <td>5642503</td>\n",
       "      <td>2016-04-29T16:08:27Z</td>\n",
       "      <td>2016-04-29T00:00:00Z</td>\n",
       "      <td>0</td>\n",
       "      <td>No</td>\n",
       "    </tr>\n",
       "    <tr>\n",
       "      <th>2</th>\n",
       "      <td>8.679512e+11</td>\n",
       "      <td>5642828</td>\n",
       "      <td>2016-04-29T17:29:31Z</td>\n",
       "      <td>2016-04-29T00:00:00Z</td>\n",
       "      <td>0</td>\n",
       "      <td>No</td>\n",
       "    </tr>\n",
       "    <tr>\n",
       "      <th>3</th>\n",
       "      <td>8.841186e+12</td>\n",
       "      <td>5642494</td>\n",
       "      <td>2016-04-29T16:07:23Z</td>\n",
       "      <td>2016-04-29T00:00:00Z</td>\n",
       "      <td>0</td>\n",
       "      <td>No</td>\n",
       "    </tr>\n",
       "    <tr>\n",
       "      <th>4</th>\n",
       "      <td>9.598513e+13</td>\n",
       "      <td>5626772</td>\n",
       "      <td>2016-04-27T08:36:51Z</td>\n",
       "      <td>2016-04-29T00:00:00Z</td>\n",
       "      <td>0</td>\n",
       "      <td>No</td>\n",
       "    </tr>\n",
       "  </tbody>\n",
       "</table>\n",
       "</div>"
      ],
      "text/plain": [
       "      PatientId  AppointmentID          ScheduledDay        AppointmentDay  \\\n",
       "0  2.987250e+13        5642903  2016-04-29T18:38:08Z  2016-04-29T00:00:00Z   \n",
       "1  5.589978e+14        5642503  2016-04-29T16:08:27Z  2016-04-29T00:00:00Z   \n",
       "2  8.679512e+11        5642828  2016-04-29T17:29:31Z  2016-04-29T00:00:00Z   \n",
       "3  8.841186e+12        5642494  2016-04-29T16:07:23Z  2016-04-29T00:00:00Z   \n",
       "4  9.598513e+13        5626772  2016-04-27T08:36:51Z  2016-04-29T00:00:00Z   \n",
       "\n",
       "   SMS_received No-show  \n",
       "0             0      No  \n",
       "1             0      No  \n",
       "2             0      No  \n",
       "3             0      No  \n",
       "4             0      No  "
      ]
     },
     "execution_count": 13,
     "metadata": {},
     "output_type": "execute_result"
    }
   ],
   "source": [
    "bd_train.head()"
   ]
  },
  {
   "cell_type": "code",
   "execution_count": 14,
   "metadata": {},
   "outputs": [],
   "source": [
    "train=pd.merge(bd_train,comb,how='left',on='PatientId')\n",
    "test=pd.merge(bd_test,comb,how='left',on='PatientId')"
   ]
  },
  {
   "cell_type": "code",
   "execution_count": 15,
   "metadata": {},
   "outputs": [
    {
     "data": {
      "text/html": [
       "<div>\n",
       "<style scoped>\n",
       "    .dataframe tbody tr th:only-of-type {\n",
       "        vertical-align: middle;\n",
       "    }\n",
       "\n",
       "    .dataframe tbody tr th {\n",
       "        vertical-align: top;\n",
       "    }\n",
       "\n",
       "    .dataframe thead th {\n",
       "        text-align: right;\n",
       "    }\n",
       "</style>\n",
       "<table border=\"1\" class=\"dataframe\">\n",
       "  <thead>\n",
       "    <tr style=\"text-align: right;\">\n",
       "      <th></th>\n",
       "      <th>PatientId</th>\n",
       "      <th>AppointmentID</th>\n",
       "      <th>ScheduledDay</th>\n",
       "      <th>AppointmentDay</th>\n",
       "      <th>SMS_received</th>\n",
       "      <th>No-show</th>\n",
       "      <th>Hipertension</th>\n",
       "      <th>Diabetes</th>\n",
       "      <th>Alcoholism</th>\n",
       "      <th>Handcap</th>\n",
       "      <th>Gender</th>\n",
       "      <th>Age</th>\n",
       "      <th>Neighbourhood</th>\n",
       "      <th>Scholarship</th>\n",
       "    </tr>\n",
       "  </thead>\n",
       "  <tbody>\n",
       "    <tr>\n",
       "      <th>0</th>\n",
       "      <td>2.987250e+13</td>\n",
       "      <td>5642903</td>\n",
       "      <td>2016-04-29T18:38:08Z</td>\n",
       "      <td>2016-04-29T00:00:00Z</td>\n",
       "      <td>0</td>\n",
       "      <td>No</td>\n",
       "      <td>1</td>\n",
       "      <td>0</td>\n",
       "      <td>0</td>\n",
       "      <td>0</td>\n",
       "      <td>F</td>\n",
       "      <td>62</td>\n",
       "      <td>JARDIM DA PENHA</td>\n",
       "      <td>0</td>\n",
       "    </tr>\n",
       "    <tr>\n",
       "      <th>1</th>\n",
       "      <td>5.589978e+14</td>\n",
       "      <td>5642503</td>\n",
       "      <td>2016-04-29T16:08:27Z</td>\n",
       "      <td>2016-04-29T00:00:00Z</td>\n",
       "      <td>0</td>\n",
       "      <td>No</td>\n",
       "      <td>0</td>\n",
       "      <td>0</td>\n",
       "      <td>0</td>\n",
       "      <td>0</td>\n",
       "      <td>M</td>\n",
       "      <td>56</td>\n",
       "      <td>JARDIM DA PENHA</td>\n",
       "      <td>0</td>\n",
       "    </tr>\n",
       "    <tr>\n",
       "      <th>2</th>\n",
       "      <td>8.679512e+11</td>\n",
       "      <td>5642828</td>\n",
       "      <td>2016-04-29T17:29:31Z</td>\n",
       "      <td>2016-04-29T00:00:00Z</td>\n",
       "      <td>0</td>\n",
       "      <td>No</td>\n",
       "      <td>0</td>\n",
       "      <td>0</td>\n",
       "      <td>0</td>\n",
       "      <td>0</td>\n",
       "      <td>F</td>\n",
       "      <td>8</td>\n",
       "      <td>PONTAL DE CAMBURI</td>\n",
       "      <td>0</td>\n",
       "    </tr>\n",
       "    <tr>\n",
       "      <th>3</th>\n",
       "      <td>8.841186e+12</td>\n",
       "      <td>5642494</td>\n",
       "      <td>2016-04-29T16:07:23Z</td>\n",
       "      <td>2016-04-29T00:00:00Z</td>\n",
       "      <td>0</td>\n",
       "      <td>No</td>\n",
       "      <td>1</td>\n",
       "      <td>1</td>\n",
       "      <td>0</td>\n",
       "      <td>0</td>\n",
       "      <td>F</td>\n",
       "      <td>56</td>\n",
       "      <td>JARDIM DA PENHA</td>\n",
       "      <td>0</td>\n",
       "    </tr>\n",
       "    <tr>\n",
       "      <th>4</th>\n",
       "      <td>9.598513e+13</td>\n",
       "      <td>5626772</td>\n",
       "      <td>2016-04-27T08:36:51Z</td>\n",
       "      <td>2016-04-29T00:00:00Z</td>\n",
       "      <td>0</td>\n",
       "      <td>No</td>\n",
       "      <td>1</td>\n",
       "      <td>0</td>\n",
       "      <td>0</td>\n",
       "      <td>0</td>\n",
       "      <td>F</td>\n",
       "      <td>76</td>\n",
       "      <td>REPÚBLICA</td>\n",
       "      <td>0</td>\n",
       "    </tr>\n",
       "  </tbody>\n",
       "</table>\n",
       "</div>"
      ],
      "text/plain": [
       "      PatientId  AppointmentID          ScheduledDay        AppointmentDay  \\\n",
       "0  2.987250e+13        5642903  2016-04-29T18:38:08Z  2016-04-29T00:00:00Z   \n",
       "1  5.589978e+14        5642503  2016-04-29T16:08:27Z  2016-04-29T00:00:00Z   \n",
       "2  8.679512e+11        5642828  2016-04-29T17:29:31Z  2016-04-29T00:00:00Z   \n",
       "3  8.841186e+12        5642494  2016-04-29T16:07:23Z  2016-04-29T00:00:00Z   \n",
       "4  9.598513e+13        5626772  2016-04-27T08:36:51Z  2016-04-29T00:00:00Z   \n",
       "\n",
       "   SMS_received No-show  Hipertension  Diabetes  Alcoholism  Handcap Gender  \\\n",
       "0             0      No             1         0           0        0      F   \n",
       "1             0      No             0         0           0        0      M   \n",
       "2             0      No             0         0           0        0      F   \n",
       "3             0      No             1         1           0        0      F   \n",
       "4             0      No             1         0           0        0      F   \n",
       "\n",
       "   Age      Neighbourhood  Scholarship  \n",
       "0   62    JARDIM DA PENHA            0  \n",
       "1   56    JARDIM DA PENHA            0  \n",
       "2    8  PONTAL DE CAMBURI            0  \n",
       "3   56    JARDIM DA PENHA            0  \n",
       "4   76          REPÚBLICA            0  "
      ]
     },
     "execution_count": 15,
     "metadata": {},
     "output_type": "execute_result"
    }
   ],
   "source": [
    "train.head()"
   ]
  },
  {
   "cell_type": "code",
   "execution_count": 16,
   "metadata": {},
   "outputs": [],
   "source": [
    "# we are going to drop columns 'PatientId', 'AppointmentID', 'ScheduledDay', 'AppointmentDay'\n",
    "\n",
    "# you should try making features out of date columns to improve performance of your model\n",
    "# try the difference in dates , cyclic features from date components "
   ]
  },
  {
   "cell_type": "code",
   "execution_count": 17,
   "metadata": {},
   "outputs": [],
   "source": [
    "drop_cols=['PatientId', 'AppointmentID', 'ScheduledDay', 'AppointmentDay']"
   ]
  },
  {
   "cell_type": "code",
   "execution_count": 18,
   "metadata": {},
   "outputs": [],
   "source": [
    "train.drop(drop_cols,1,inplace=True)\n",
    "test.drop(drop_cols,1,inplace=True)"
   ]
  },
  {
   "cell_type": "code",
   "execution_count": 19,
   "metadata": {},
   "outputs": [],
   "source": [
    "train['data']='train'\n",
    "test['data']='test'\n",
    "\n",
    "all_data=pd.concat([train,test],0,sort=False)"
   ]
  },
  {
   "cell_type": "code",
   "execution_count": 20,
   "metadata": {},
   "outputs": [],
   "source": [
    "all_data['gender_f']=(all_data['Gender']=='F').astype(int)\n",
    "del all_data['Gender']"
   ]
  },
  {
   "cell_type": "code",
   "execution_count": 21,
   "metadata": {},
   "outputs": [
    {
     "data": {
      "text/plain": [
       "(110344, 11)"
      ]
     },
     "execution_count": 21,
     "metadata": {},
     "output_type": "execute_result"
    }
   ],
   "source": [
    "all_data.shape"
   ]
  },
  {
   "cell_type": "code",
   "execution_count": 22,
   "metadata": {},
   "outputs": [],
   "source": [
    "k=all_data['Neighbourhood'].value_counts()\n",
    "cats=k[k>2000].index\n",
    "\n",
    "# you can try slightly loweer cutoff to include dummy vars for more neighbourhoods \n",
    "# check if that improves your model "
   ]
  },
  {
   "cell_type": "code",
   "execution_count": 23,
   "metadata": {},
   "outputs": [],
   "source": [
    "for cat in cats:\n",
    "    name='Neighbourhood_'+cat\n",
    "    all_data[name]=(all_data['Neighbourhood']==cat).astype(int)\n",
    "del all_data['Neighbourhood']"
   ]
  },
  {
   "cell_type": "code",
   "execution_count": 24,
   "metadata": {},
   "outputs": [
    {
     "data": {
      "text/plain": [
       "(110344, 31)"
      ]
     },
     "execution_count": 24,
     "metadata": {},
     "output_type": "execute_result"
    }
   ],
   "source": [
    "all_data.shape"
   ]
  },
  {
   "cell_type": "code",
   "execution_count": 25,
   "metadata": {},
   "outputs": [
    {
     "data": {
      "text/html": [
       "<div>\n",
       "<style scoped>\n",
       "    .dataframe tbody tr th:only-of-type {\n",
       "        vertical-align: middle;\n",
       "    }\n",
       "\n",
       "    .dataframe tbody tr th {\n",
       "        vertical-align: top;\n",
       "    }\n",
       "\n",
       "    .dataframe thead th {\n",
       "        text-align: right;\n",
       "    }\n",
       "</style>\n",
       "<table border=\"1\" class=\"dataframe\">\n",
       "  <thead>\n",
       "    <tr style=\"text-align: right;\">\n",
       "      <th></th>\n",
       "      <th>SMS_received</th>\n",
       "      <th>No-show</th>\n",
       "      <th>Hipertension</th>\n",
       "      <th>Diabetes</th>\n",
       "      <th>Alcoholism</th>\n",
       "      <th>Handcap</th>\n",
       "      <th>Age</th>\n",
       "      <th>Scholarship</th>\n",
       "      <th>data</th>\n",
       "      <th>gender_f</th>\n",
       "      <th>...</th>\n",
       "      <th>Neighbourhood_SANTO ANDRÉ</th>\n",
       "      <th>Neighbourhood_CARATOÍRA</th>\n",
       "      <th>Neighbourhood_JABOUR</th>\n",
       "      <th>Neighbourhood_SÃO PEDRO</th>\n",
       "      <th>Neighbourhood_ILHA DO PRÍNCIPE</th>\n",
       "      <th>Neighbourhood_NOVA PALESTINA</th>\n",
       "      <th>Neighbourhood_DA PENHA</th>\n",
       "      <th>Neighbourhood_ANDORINHAS</th>\n",
       "      <th>Neighbourhood_ROMÃO</th>\n",
       "      <th>Neighbourhood_GURIGICA</th>\n",
       "    </tr>\n",
       "  </thead>\n",
       "  <tbody>\n",
       "    <tr>\n",
       "      <th>0</th>\n",
       "      <td>0</td>\n",
       "      <td>No</td>\n",
       "      <td>1</td>\n",
       "      <td>0</td>\n",
       "      <td>0</td>\n",
       "      <td>0</td>\n",
       "      <td>62</td>\n",
       "      <td>0</td>\n",
       "      <td>train</td>\n",
       "      <td>1</td>\n",
       "      <td>...</td>\n",
       "      <td>0</td>\n",
       "      <td>0</td>\n",
       "      <td>0</td>\n",
       "      <td>0</td>\n",
       "      <td>0</td>\n",
       "      <td>0</td>\n",
       "      <td>0</td>\n",
       "      <td>0</td>\n",
       "      <td>0</td>\n",
       "      <td>0</td>\n",
       "    </tr>\n",
       "    <tr>\n",
       "      <th>1</th>\n",
       "      <td>0</td>\n",
       "      <td>No</td>\n",
       "      <td>0</td>\n",
       "      <td>0</td>\n",
       "      <td>0</td>\n",
       "      <td>0</td>\n",
       "      <td>56</td>\n",
       "      <td>0</td>\n",
       "      <td>train</td>\n",
       "      <td>0</td>\n",
       "      <td>...</td>\n",
       "      <td>0</td>\n",
       "      <td>0</td>\n",
       "      <td>0</td>\n",
       "      <td>0</td>\n",
       "      <td>0</td>\n",
       "      <td>0</td>\n",
       "      <td>0</td>\n",
       "      <td>0</td>\n",
       "      <td>0</td>\n",
       "      <td>0</td>\n",
       "    </tr>\n",
       "    <tr>\n",
       "      <th>2</th>\n",
       "      <td>0</td>\n",
       "      <td>No</td>\n",
       "      <td>0</td>\n",
       "      <td>0</td>\n",
       "      <td>0</td>\n",
       "      <td>0</td>\n",
       "      <td>8</td>\n",
       "      <td>0</td>\n",
       "      <td>train</td>\n",
       "      <td>1</td>\n",
       "      <td>...</td>\n",
       "      <td>0</td>\n",
       "      <td>0</td>\n",
       "      <td>0</td>\n",
       "      <td>0</td>\n",
       "      <td>0</td>\n",
       "      <td>0</td>\n",
       "      <td>0</td>\n",
       "      <td>0</td>\n",
       "      <td>0</td>\n",
       "      <td>0</td>\n",
       "    </tr>\n",
       "    <tr>\n",
       "      <th>3</th>\n",
       "      <td>0</td>\n",
       "      <td>No</td>\n",
       "      <td>1</td>\n",
       "      <td>1</td>\n",
       "      <td>0</td>\n",
       "      <td>0</td>\n",
       "      <td>56</td>\n",
       "      <td>0</td>\n",
       "      <td>train</td>\n",
       "      <td>1</td>\n",
       "      <td>...</td>\n",
       "      <td>0</td>\n",
       "      <td>0</td>\n",
       "      <td>0</td>\n",
       "      <td>0</td>\n",
       "      <td>0</td>\n",
       "      <td>0</td>\n",
       "      <td>0</td>\n",
       "      <td>0</td>\n",
       "      <td>0</td>\n",
       "      <td>0</td>\n",
       "    </tr>\n",
       "    <tr>\n",
       "      <th>4</th>\n",
       "      <td>0</td>\n",
       "      <td>No</td>\n",
       "      <td>1</td>\n",
       "      <td>0</td>\n",
       "      <td>0</td>\n",
       "      <td>0</td>\n",
       "      <td>76</td>\n",
       "      <td>0</td>\n",
       "      <td>train</td>\n",
       "      <td>1</td>\n",
       "      <td>...</td>\n",
       "      <td>0</td>\n",
       "      <td>0</td>\n",
       "      <td>0</td>\n",
       "      <td>0</td>\n",
       "      <td>0</td>\n",
       "      <td>0</td>\n",
       "      <td>0</td>\n",
       "      <td>0</td>\n",
       "      <td>0</td>\n",
       "      <td>0</td>\n",
       "    </tr>\n",
       "  </tbody>\n",
       "</table>\n",
       "<p>5 rows × 31 columns</p>\n",
       "</div>"
      ],
      "text/plain": [
       "   SMS_received No-show  Hipertension  Diabetes  Alcoholism  Handcap  Age  \\\n",
       "0             0      No             1         0           0        0   62   \n",
       "1             0      No             0         0           0        0   56   \n",
       "2             0      No             0         0           0        0    8   \n",
       "3             0      No             1         1           0        0   56   \n",
       "4             0      No             1         0           0        0   76   \n",
       "\n",
       "   Scholarship   data  gender_f  ...  Neighbourhood_SANTO ANDRÉ  \\\n",
       "0            0  train         1  ...                          0   \n",
       "1            0  train         0  ...                          0   \n",
       "2            0  train         1  ...                          0   \n",
       "3            0  train         1  ...                          0   \n",
       "4            0  train         1  ...                          0   \n",
       "\n",
       "   Neighbourhood_CARATOÍRA  Neighbourhood_JABOUR  Neighbourhood_SÃO PEDRO  \\\n",
       "0                        0                     0                        0   \n",
       "1                        0                     0                        0   \n",
       "2                        0                     0                        0   \n",
       "3                        0                     0                        0   \n",
       "4                        0                     0                        0   \n",
       "\n",
       "   Neighbourhood_ILHA DO PRÍNCIPE  Neighbourhood_NOVA PALESTINA  \\\n",
       "0                               0                             0   \n",
       "1                               0                             0   \n",
       "2                               0                             0   \n",
       "3                               0                             0   \n",
       "4                               0                             0   \n",
       "\n",
       "   Neighbourhood_DA PENHA  Neighbourhood_ANDORINHAS  Neighbourhood_ROMÃO  \\\n",
       "0                       0                         0                    0   \n",
       "1                       0                         0                    0   \n",
       "2                       0                         0                    0   \n",
       "3                       0                         0                    0   \n",
       "4                       0                         0                    0   \n",
       "\n",
       "   Neighbourhood_GURIGICA  \n",
       "0                       0  \n",
       "1                       0  \n",
       "2                       0  \n",
       "3                       0  \n",
       "4                       0  \n",
       "\n",
       "[5 rows x 31 columns]"
      ]
     },
     "execution_count": 25,
     "metadata": {},
     "output_type": "execute_result"
    }
   ],
   "source": [
    "all_data.head()"
   ]
  },
  {
   "cell_type": "code",
   "execution_count": 26,
   "metadata": {},
   "outputs": [],
   "source": [
    "target='No-show'"
   ]
  },
  {
   "cell_type": "code",
   "execution_count": 27,
   "metadata": {},
   "outputs": [],
   "source": [
    "x_train=all_data.drop([target,'data'],1)[all_data['data']=='train']\n",
    "y_train=all_data[target][all_data['data']=='train']\n",
    "x_test=all_data.drop([target,'data'],1)[all_data['data']=='test']"
   ]
  },
  {
   "cell_type": "code",
   "execution_count": 28,
   "metadata": {},
   "outputs": [
    {
     "name": "stderr",
     "output_type": "stream",
     "text": [
      "C:\\Users\\KUMAR\\Anaconda3_1\\lib\\site-packages\\sklearn\\linear_model\\least_angle.py:30: DeprecationWarning: `np.float` is a deprecated alias for the builtin `float`. To silence this warning, use `float` by itself. Doing this will not modify any behavior and is safe. If you specifically wanted the numpy scalar type, use `np.float64` here.\n",
      "Deprecated in NumPy 1.20; for more details and guidance: https://numpy.org/devdocs/release/1.20.0-notes.html#deprecations\n",
      "  method='lar', copy_X=True, eps=np.finfo(np.float).eps,\n",
      "C:\\Users\\KUMAR\\Anaconda3_1\\lib\\site-packages\\sklearn\\linear_model\\least_angle.py:167: DeprecationWarning: `np.float` is a deprecated alias for the builtin `float`. To silence this warning, use `float` by itself. Doing this will not modify any behavior and is safe. If you specifically wanted the numpy scalar type, use `np.float64` here.\n",
      "Deprecated in NumPy 1.20; for more details and guidance: https://numpy.org/devdocs/release/1.20.0-notes.html#deprecations\n",
      "  method='lar', copy_X=True, eps=np.finfo(np.float).eps,\n",
      "C:\\Users\\KUMAR\\Anaconda3_1\\lib\\site-packages\\sklearn\\linear_model\\least_angle.py:284: DeprecationWarning: `np.float` is a deprecated alias for the builtin `float`. To silence this warning, use `float` by itself. Doing this will not modify any behavior and is safe. If you specifically wanted the numpy scalar type, use `np.float64` here.\n",
      "Deprecated in NumPy 1.20; for more details and guidance: https://numpy.org/devdocs/release/1.20.0-notes.html#deprecations\n",
      "  eps=np.finfo(np.float).eps, copy_Gram=True, verbose=0,\n",
      "C:\\Users\\KUMAR\\Anaconda3_1\\lib\\site-packages\\sklearn\\linear_model\\least_angle.py:862: DeprecationWarning: `np.float` is a deprecated alias for the builtin `float`. To silence this warning, use `float` by itself. Doing this will not modify any behavior and is safe. If you specifically wanted the numpy scalar type, use `np.float64` here.\n",
      "Deprecated in NumPy 1.20; for more details and guidance: https://numpy.org/devdocs/release/1.20.0-notes.html#deprecations\n",
      "  eps=np.finfo(np.float).eps, copy_X=True, fit_path=True,\n",
      "C:\\Users\\KUMAR\\Anaconda3_1\\lib\\site-packages\\sklearn\\linear_model\\least_angle.py:1101: DeprecationWarning: `np.float` is a deprecated alias for the builtin `float`. To silence this warning, use `float` by itself. Doing this will not modify any behavior and is safe. If you specifically wanted the numpy scalar type, use `np.float64` here.\n",
      "Deprecated in NumPy 1.20; for more details and guidance: https://numpy.org/devdocs/release/1.20.0-notes.html#deprecations\n",
      "  eps=np.finfo(np.float).eps, copy_X=True, fit_path=True,\n",
      "C:\\Users\\KUMAR\\Anaconda3_1\\lib\\site-packages\\sklearn\\linear_model\\least_angle.py:1127: DeprecationWarning: `np.float` is a deprecated alias for the builtin `float`. To silence this warning, use `float` by itself. Doing this will not modify any behavior and is safe. If you specifically wanted the numpy scalar type, use `np.float64` here.\n",
      "Deprecated in NumPy 1.20; for more details and guidance: https://numpy.org/devdocs/release/1.20.0-notes.html#deprecations\n",
      "  eps=np.finfo(np.float).eps, positive=False):\n",
      "C:\\Users\\KUMAR\\Anaconda3_1\\lib\\site-packages\\sklearn\\linear_model\\least_angle.py:1362: DeprecationWarning: `np.float` is a deprecated alias for the builtin `float`. To silence this warning, use `float` by itself. Doing this will not modify any behavior and is safe. If you specifically wanted the numpy scalar type, use `np.float64` here.\n",
      "Deprecated in NumPy 1.20; for more details and guidance: https://numpy.org/devdocs/release/1.20.0-notes.html#deprecations\n",
      "  max_n_alphas=1000, n_jobs=None, eps=np.finfo(np.float).eps,\n",
      "C:\\Users\\KUMAR\\Anaconda3_1\\lib\\site-packages\\sklearn\\linear_model\\least_angle.py:1602: DeprecationWarning: `np.float` is a deprecated alias for the builtin `float`. To silence this warning, use `float` by itself. Doing this will not modify any behavior and is safe. If you specifically wanted the numpy scalar type, use `np.float64` here.\n",
      "Deprecated in NumPy 1.20; for more details and guidance: https://numpy.org/devdocs/release/1.20.0-notes.html#deprecations\n",
      "  max_n_alphas=1000, n_jobs=None, eps=np.finfo(np.float).eps,\n",
      "C:\\Users\\KUMAR\\Anaconda3_1\\lib\\site-packages\\sklearn\\linear_model\\least_angle.py:1738: DeprecationWarning: `np.float` is a deprecated alias for the builtin `float`. To silence this warning, use `float` by itself. Doing this will not modify any behavior and is safe. If you specifically wanted the numpy scalar type, use `np.float64` here.\n",
      "Deprecated in NumPy 1.20; for more details and guidance: https://numpy.org/devdocs/release/1.20.0-notes.html#deprecations\n",
      "  eps=np.finfo(np.float).eps, copy_X=True, positive=False):\n"
     ]
    }
   ],
   "source": [
    "from sklearn.linear_model import LogisticRegression\n",
    "from sklearn.model_selection import RandomizedSearchCV"
   ]
  },
  {
   "cell_type": "code",
   "execution_count": 29,
   "metadata": {},
   "outputs": [],
   "source": [
    "params={'penalty':['l1','l2'],'class_weight':['balanced',None],\n",
    "        'C':np.linspace(0.01,100,100)}"
   ]
  },
  {
   "cell_type": "code",
   "execution_count": 30,
   "metadata": {},
   "outputs": [],
   "source": [
    "model=LogisticRegression()\n",
    "\n",
    "# tune more complex algos for improving performance"
   ]
  },
  {
   "cell_type": "code",
   "execution_count": 31,
   "metadata": {},
   "outputs": [],
   "source": [
    "rs=RandomizedSearchCV(model,param_distributions=params,n_iter=10,\n",
    "                      scoring='roc_auc',cv=10,n_jobs=-1,verbose=20)"
   ]
  },
  {
   "cell_type": "code",
   "execution_count": 32,
   "metadata": {},
   "outputs": [
    {
     "name": "stdout",
     "output_type": "stream",
     "text": [
      "Fitting 10 folds for each of 10 candidates, totalling 100 fits\n"
     ]
    },
    {
     "name": "stderr",
     "output_type": "stream",
     "text": [
      "C:\\Users\\KUMAR\\Anaconda3_1\\lib\\site-packages\\sklearn\\model_selection\\_split.py:670: DeprecationWarning: `np.int` is a deprecated alias for the builtin `int`. To silence this warning, use `int` by itself. Doing this will not modify any behavior and is safe. When replacing `np.int`, you may wish to use e.g. `np.int64` or `np.int32` to specify the precision. If you wish to review your current use, check the release note link for additional information.\n",
      "Deprecated in NumPy 1.20; for more details and guidance: https://numpy.org/devdocs/release/1.20.0-notes.html#deprecations\n",
      "  test_folds = np.zeros(n_samples, dtype=np.int)\n",
      "C:\\Users\\KUMAR\\Anaconda3_1\\lib\\site-packages\\sklearn\\model_selection\\_split.py:442: DeprecationWarning: `np.int` is a deprecated alias for the builtin `int`. To silence this warning, use `int` by itself. Doing this will not modify any behavior and is safe. When replacing `np.int`, you may wish to use e.g. `np.int64` or `np.int32` to specify the precision. If you wish to review your current use, check the release note link for additional information.\n",
      "Deprecated in NumPy 1.20; for more details and guidance: https://numpy.org/devdocs/release/1.20.0-notes.html#deprecations\n",
      "  fold_sizes = np.full(n_splits, n_samples // n_splits, dtype=np.int)\n",
      "C:\\Users\\KUMAR\\Anaconda3_1\\lib\\site-packages\\sklearn\\model_selection\\_split.py:102: DeprecationWarning: `np.bool` is a deprecated alias for the builtin `bool`. To silence this warning, use `bool` by itself. Doing this will not modify any behavior and is safe. If you specifically wanted the numpy scalar type, use `np.bool_` here.\n",
      "Deprecated in NumPy 1.20; for more details and guidance: https://numpy.org/devdocs/release/1.20.0-notes.html#deprecations\n",
      "  test_mask = np.zeros(_num_samples(X), dtype=np.bool)\n",
      "C:\\Users\\KUMAR\\Anaconda3_1\\lib\\site-packages\\sklearn\\model_selection\\_split.py:442: DeprecationWarning: `np.int` is a deprecated alias for the builtin `int`. To silence this warning, use `int` by itself. Doing this will not modify any behavior and is safe. When replacing `np.int`, you may wish to use e.g. `np.int64` or `np.int32` to specify the precision. If you wish to review your current use, check the release note link for additional information.\n",
      "Deprecated in NumPy 1.20; for more details and guidance: https://numpy.org/devdocs/release/1.20.0-notes.html#deprecations\n",
      "  fold_sizes = np.full(n_splits, n_samples // n_splits, dtype=np.int)\n",
      "C:\\Users\\KUMAR\\Anaconda3_1\\lib\\site-packages\\sklearn\\model_selection\\_split.py:102: DeprecationWarning: `np.bool` is a deprecated alias for the builtin `bool`. To silence this warning, use `bool` by itself. Doing this will not modify any behavior and is safe. If you specifically wanted the numpy scalar type, use `np.bool_` here.\n",
      "Deprecated in NumPy 1.20; for more details and guidance: https://numpy.org/devdocs/release/1.20.0-notes.html#deprecations\n",
      "  test_mask = np.zeros(_num_samples(X), dtype=np.bool)\n",
      "C:\\Users\\KUMAR\\Anaconda3_1\\lib\\site-packages\\sklearn\\model_selection\\_split.py:102: DeprecationWarning: `np.bool` is a deprecated alias for the builtin `bool`. To silence this warning, use `bool` by itself. Doing this will not modify any behavior and is safe. If you specifically wanted the numpy scalar type, use `np.bool_` here.\n",
      "Deprecated in NumPy 1.20; for more details and guidance: https://numpy.org/devdocs/release/1.20.0-notes.html#deprecations\n",
      "  test_mask = np.zeros(_num_samples(X), dtype=np.bool)\n",
      "C:\\Users\\KUMAR\\Anaconda3_1\\lib\\site-packages\\sklearn\\model_selection\\_split.py:102: DeprecationWarning: `np.bool` is a deprecated alias for the builtin `bool`. To silence this warning, use `bool` by itself. Doing this will not modify any behavior and is safe. If you specifically wanted the numpy scalar type, use `np.bool_` here.\n",
      "Deprecated in NumPy 1.20; for more details and guidance: https://numpy.org/devdocs/release/1.20.0-notes.html#deprecations\n",
      "  test_mask = np.zeros(_num_samples(X), dtype=np.bool)\n",
      "C:\\Users\\KUMAR\\Anaconda3_1\\lib\\site-packages\\sklearn\\model_selection\\_split.py:102: DeprecationWarning: `np.bool` is a deprecated alias for the builtin `bool`. To silence this warning, use `bool` by itself. Doing this will not modify any behavior and is safe. If you specifically wanted the numpy scalar type, use `np.bool_` here.\n",
      "Deprecated in NumPy 1.20; for more details and guidance: https://numpy.org/devdocs/release/1.20.0-notes.html#deprecations\n",
      "  test_mask = np.zeros(_num_samples(X), dtype=np.bool)\n",
      "C:\\Users\\KUMAR\\Anaconda3_1\\lib\\site-packages\\sklearn\\model_selection\\_split.py:102: DeprecationWarning: `np.bool` is a deprecated alias for the builtin `bool`. To silence this warning, use `bool` by itself. Doing this will not modify any behavior and is safe. If you specifically wanted the numpy scalar type, use `np.bool_` here.\n",
      "Deprecated in NumPy 1.20; for more details and guidance: https://numpy.org/devdocs/release/1.20.0-notes.html#deprecations\n",
      "  test_mask = np.zeros(_num_samples(X), dtype=np.bool)\n",
      "C:\\Users\\KUMAR\\Anaconda3_1\\lib\\site-packages\\sklearn\\model_selection\\_split.py:102: DeprecationWarning: `np.bool` is a deprecated alias for the builtin `bool`. To silence this warning, use `bool` by itself. Doing this will not modify any behavior and is safe. If you specifically wanted the numpy scalar type, use `np.bool_` here.\n",
      "Deprecated in NumPy 1.20; for more details and guidance: https://numpy.org/devdocs/release/1.20.0-notes.html#deprecations\n",
      "  test_mask = np.zeros(_num_samples(X), dtype=np.bool)\n",
      "C:\\Users\\KUMAR\\Anaconda3_1\\lib\\site-packages\\sklearn\\model_selection\\_split.py:102: DeprecationWarning: `np.bool` is a deprecated alias for the builtin `bool`. To silence this warning, use `bool` by itself. Doing this will not modify any behavior and is safe. If you specifically wanted the numpy scalar type, use `np.bool_` here.\n",
      "Deprecated in NumPy 1.20; for more details and guidance: https://numpy.org/devdocs/release/1.20.0-notes.html#deprecations\n",
      "  test_mask = np.zeros(_num_samples(X), dtype=np.bool)\n",
      "C:\\Users\\KUMAR\\Anaconda3_1\\lib\\site-packages\\sklearn\\model_selection\\_split.py:102: DeprecationWarning: `np.bool` is a deprecated alias for the builtin `bool`. To silence this warning, use `bool` by itself. Doing this will not modify any behavior and is safe. If you specifically wanted the numpy scalar type, use `np.bool_` here.\n",
      "Deprecated in NumPy 1.20; for more details and guidance: https://numpy.org/devdocs/release/1.20.0-notes.html#deprecations\n",
      "  test_mask = np.zeros(_num_samples(X), dtype=np.bool)\n",
      "C:\\Users\\KUMAR\\Anaconda3_1\\lib\\site-packages\\sklearn\\model_selection\\_split.py:102: DeprecationWarning: `np.bool` is a deprecated alias for the builtin `bool`. To silence this warning, use `bool` by itself. Doing this will not modify any behavior and is safe. If you specifically wanted the numpy scalar type, use `np.bool_` here.\n",
      "Deprecated in NumPy 1.20; for more details and guidance: https://numpy.org/devdocs/release/1.20.0-notes.html#deprecations\n",
      "  test_mask = np.zeros(_num_samples(X), dtype=np.bool)\n",
      "C:\\Users\\KUMAR\\Anaconda3_1\\lib\\site-packages\\sklearn\\model_selection\\_split.py:102: DeprecationWarning: `np.bool` is a deprecated alias for the builtin `bool`. To silence this warning, use `bool` by itself. Doing this will not modify any behavior and is safe. If you specifically wanted the numpy scalar type, use `np.bool_` here.\n",
      "Deprecated in NumPy 1.20; for more details and guidance: https://numpy.org/devdocs/release/1.20.0-notes.html#deprecations\n",
      "  test_mask = np.zeros(_num_samples(X), dtype=np.bool)\n",
      "C:\\Users\\KUMAR\\Anaconda3_1\\lib\\site-packages\\sklearn\\model_selection\\_split.py:102: DeprecationWarning: `np.bool` is a deprecated alias for the builtin `bool`. To silence this warning, use `bool` by itself. Doing this will not modify any behavior and is safe. If you specifically wanted the numpy scalar type, use `np.bool_` here.\n",
      "Deprecated in NumPy 1.20; for more details and guidance: https://numpy.org/devdocs/release/1.20.0-notes.html#deprecations\n",
      "  test_mask = np.zeros(_num_samples(X), dtype=np.bool)\n",
      "C:\\Users\\KUMAR\\Anaconda3_1\\lib\\site-packages\\sklearn\\model_selection\\_split.py:102: DeprecationWarning: `np.bool` is a deprecated alias for the builtin `bool`. To silence this warning, use `bool` by itself. Doing this will not modify any behavior and is safe. If you specifically wanted the numpy scalar type, use `np.bool_` here.\n",
      "Deprecated in NumPy 1.20; for more details and guidance: https://numpy.org/devdocs/release/1.20.0-notes.html#deprecations\n",
      "  test_mask = np.zeros(_num_samples(X), dtype=np.bool)\n",
      "C:\\Users\\KUMAR\\Anaconda3_1\\lib\\site-packages\\sklearn\\model_selection\\_split.py:102: DeprecationWarning: `np.bool` is a deprecated alias for the builtin `bool`. To silence this warning, use `bool` by itself. Doing this will not modify any behavior and is safe. If you specifically wanted the numpy scalar type, use `np.bool_` here.\n",
      "Deprecated in NumPy 1.20; for more details and guidance: https://numpy.org/devdocs/release/1.20.0-notes.html#deprecations\n",
      "  test_mask = np.zeros(_num_samples(X), dtype=np.bool)\n",
      "C:\\Users\\KUMAR\\Anaconda3_1\\lib\\site-packages\\sklearn\\model_selection\\_split.py:102: DeprecationWarning: `np.bool` is a deprecated alias for the builtin `bool`. To silence this warning, use `bool` by itself. Doing this will not modify any behavior and is safe. If you specifically wanted the numpy scalar type, use `np.bool_` here.\n",
      "Deprecated in NumPy 1.20; for more details and guidance: https://numpy.org/devdocs/release/1.20.0-notes.html#deprecations\n",
      "  test_mask = np.zeros(_num_samples(X), dtype=np.bool)\n",
      "C:\\Users\\KUMAR\\Anaconda3_1\\lib\\site-packages\\sklearn\\model_selection\\_split.py:102: DeprecationWarning: `np.bool` is a deprecated alias for the builtin `bool`. To silence this warning, use `bool` by itself. Doing this will not modify any behavior and is safe. If you specifically wanted the numpy scalar type, use `np.bool_` here.\n",
      "Deprecated in NumPy 1.20; for more details and guidance: https://numpy.org/devdocs/release/1.20.0-notes.html#deprecations\n",
      "  test_mask = np.zeros(_num_samples(X), dtype=np.bool)\n",
      "C:\\Users\\KUMAR\\Anaconda3_1\\lib\\site-packages\\sklearn\\model_selection\\_split.py:102: DeprecationWarning: `np.bool` is a deprecated alias for the builtin `bool`. To silence this warning, use `bool` by itself. Doing this will not modify any behavior and is safe. If you specifically wanted the numpy scalar type, use `np.bool_` here.\n",
      "Deprecated in NumPy 1.20; for more details and guidance: https://numpy.org/devdocs/release/1.20.0-notes.html#deprecations\n",
      "  test_mask = np.zeros(_num_samples(X), dtype=np.bool)\n",
      "C:\\Users\\KUMAR\\Anaconda3_1\\lib\\site-packages\\sklearn\\model_selection\\_split.py:102: DeprecationWarning: `np.bool` is a deprecated alias for the builtin `bool`. To silence this warning, use `bool` by itself. Doing this will not modify any behavior and is safe. If you specifically wanted the numpy scalar type, use `np.bool_` here.\n",
      "Deprecated in NumPy 1.20; for more details and guidance: https://numpy.org/devdocs/release/1.20.0-notes.html#deprecations\n",
      "  test_mask = np.zeros(_num_samples(X), dtype=np.bool)\n",
      "C:\\Users\\KUMAR\\Anaconda3_1\\lib\\site-packages\\sklearn\\model_selection\\_split.py:102: DeprecationWarning: `np.bool` is a deprecated alias for the builtin `bool`. To silence this warning, use `bool` by itself. Doing this will not modify any behavior and is safe. If you specifically wanted the numpy scalar type, use `np.bool_` here.\n",
      "Deprecated in NumPy 1.20; for more details and guidance: https://numpy.org/devdocs/release/1.20.0-notes.html#deprecations\n",
      "  test_mask = np.zeros(_num_samples(X), dtype=np.bool)\n",
      "C:\\Users\\KUMAR\\Anaconda3_1\\lib\\site-packages\\sklearn\\model_selection\\_split.py:102: DeprecationWarning: `np.bool` is a deprecated alias for the builtin `bool`. To silence this warning, use `bool` by itself. Doing this will not modify any behavior and is safe. If you specifically wanted the numpy scalar type, use `np.bool_` here.\n",
      "Deprecated in NumPy 1.20; for more details and guidance: https://numpy.org/devdocs/release/1.20.0-notes.html#deprecations\n",
      "  test_mask = np.zeros(_num_samples(X), dtype=np.bool)\n",
      "[Parallel(n_jobs=-1)]: Using backend LokyBackend with 2 concurrent workers.\n",
      "[Parallel(n_jobs=-1)]: Done   1 tasks      | elapsed:    7.3s\n",
      "[Parallel(n_jobs=-1)]: Done   2 tasks      | elapsed:    7.7s\n",
      "[Parallel(n_jobs=-1)]: Done   3 tasks      | elapsed:    9.2s\n",
      "[Parallel(n_jobs=-1)]: Done   4 tasks      | elapsed:    9.5s\n",
      "[Parallel(n_jobs=-1)]: Done   5 tasks      | elapsed:   10.8s\n",
      "[Parallel(n_jobs=-1)]: Done   6 tasks      | elapsed:   11.4s\n",
      "[Parallel(n_jobs=-1)]: Done   7 tasks      | elapsed:   12.4s\n",
      "[Parallel(n_jobs=-1)]: Done   8 tasks      | elapsed:   13.1s\n",
      "[Parallel(n_jobs=-1)]: Done   9 tasks      | elapsed:   14.0s\n",
      "[Parallel(n_jobs=-1)]: Done  10 tasks      | elapsed:   14.8s\n",
      "[Parallel(n_jobs=-1)]: Done  11 tasks      | elapsed:   16.0s\n",
      "[Parallel(n_jobs=-1)]: Done  12 tasks      | elapsed:   17.5s\n",
      "[Parallel(n_jobs=-1)]: Done  13 tasks      | elapsed:   17.8s\n",
      "[Parallel(n_jobs=-1)]: Done  14 tasks      | elapsed:   19.8s\n",
      "[Parallel(n_jobs=-1)]: Done  15 tasks      | elapsed:   21.7s\n",
      "[Parallel(n_jobs=-1)]: Done  16 tasks      | elapsed:   23.3s\n",
      "[Parallel(n_jobs=-1)]: Done  17 tasks      | elapsed:   23.7s\n",
      "[Parallel(n_jobs=-1)]: Done  18 tasks      | elapsed:   25.9s\n",
      "[Parallel(n_jobs=-1)]: Done  19 tasks      | elapsed:   27.5s\n",
      "[Parallel(n_jobs=-1)]: Done  20 tasks      | elapsed:   27.7s\n",
      "[Parallel(n_jobs=-1)]: Done  21 tasks      | elapsed:   30.2s\n",
      "[Parallel(n_jobs=-1)]: Done  22 tasks      | elapsed:   30.8s\n",
      "[Parallel(n_jobs=-1)]: Done  23 tasks      | elapsed:   31.5s\n",
      "[Parallel(n_jobs=-1)]: Done  24 tasks      | elapsed:   33.1s\n",
      "[Parallel(n_jobs=-1)]: Done  25 tasks      | elapsed:   33.3s\n",
      "[Parallel(n_jobs=-1)]: Done  26 tasks      | elapsed:   35.2s\n",
      "[Parallel(n_jobs=-1)]: Done  27 tasks      | elapsed:   36.0s\n",
      "[Parallel(n_jobs=-1)]: Done  28 tasks      | elapsed:   37.2s\n",
      "[Parallel(n_jobs=-1)]: Done  29 tasks      | elapsed:   37.6s\n",
      "[Parallel(n_jobs=-1)]: Done  30 tasks      | elapsed:   38.9s\n",
      "[Parallel(n_jobs=-1)]: Done  31 tasks      | elapsed:   39.7s\n",
      "[Parallel(n_jobs=-1)]: Done  32 tasks      | elapsed:   40.4s\n",
      "[Parallel(n_jobs=-1)]: Done  33 tasks      | elapsed:   41.5s\n",
      "[Parallel(n_jobs=-1)]: Done  34 tasks      | elapsed:   42.2s\n",
      "[Parallel(n_jobs=-1)]: Done  35 tasks      | elapsed:   43.2s\n",
      "[Parallel(n_jobs=-1)]: Done  36 tasks      | elapsed:   43.8s\n",
      "[Parallel(n_jobs=-1)]: Done  37 tasks      | elapsed:   45.2s\n",
      "[Parallel(n_jobs=-1)]: Done  38 tasks      | elapsed:   45.4s\n",
      "[Parallel(n_jobs=-1)]: Done  39 tasks      | elapsed:   47.1s\n",
      "[Parallel(n_jobs=-1)]: Done  40 tasks      | elapsed:   47.4s\n",
      "[Parallel(n_jobs=-1)]: Done  41 tasks      | elapsed:   48.8s\n",
      "[Parallel(n_jobs=-1)]: Done  42 tasks      | elapsed:   49.1s\n",
      "[Parallel(n_jobs=-1)]: Done  43 tasks      | elapsed:   50.3s\n",
      "[Parallel(n_jobs=-1)]: Done  44 tasks      | elapsed:   50.9s\n",
      "[Parallel(n_jobs=-1)]: Done  45 tasks      | elapsed:   52.3s\n",
      "[Parallel(n_jobs=-1)]: Done  46 tasks      | elapsed:   52.4s\n",
      "[Parallel(n_jobs=-1)]: Done  47 tasks      | elapsed:   54.1s\n",
      "[Parallel(n_jobs=-1)]: Done  48 tasks      | elapsed:   54.2s\n",
      "[Parallel(n_jobs=-1)]: Done  49 tasks      | elapsed:   55.8s\n",
      "[Parallel(n_jobs=-1)]: Done  50 tasks      | elapsed:   56.1s\n",
      "[Parallel(n_jobs=-1)]: Done  51 tasks      | elapsed:   57.3s\n",
      "[Parallel(n_jobs=-1)]: Done  52 tasks      | elapsed:   57.7s\n",
      "[Parallel(n_jobs=-1)]: Done  53 tasks      | elapsed:   58.9s\n",
      "[Parallel(n_jobs=-1)]: Done  54 tasks      | elapsed:   59.3s\n",
      "[Parallel(n_jobs=-1)]: Done  55 tasks      | elapsed:  1.0min\n",
      "[Parallel(n_jobs=-1)]: Done  56 tasks      | elapsed:  1.0min\n",
      "[Parallel(n_jobs=-1)]: Done  57 tasks      | elapsed:  1.0min\n",
      "[Parallel(n_jobs=-1)]: Done  58 tasks      | elapsed:  1.0min\n",
      "[Parallel(n_jobs=-1)]: Done  59 tasks      | elapsed:  1.1min\n",
      "[Parallel(n_jobs=-1)]: Done  60 tasks      | elapsed:  1.1min\n",
      "[Parallel(n_jobs=-1)]: Done  61 tasks      | elapsed:  1.1min\n",
      "[Parallel(n_jobs=-1)]: Done  62 tasks      | elapsed:  1.1min\n",
      "[Parallel(n_jobs=-1)]: Done  63 tasks      | elapsed:  1.1min\n",
      "[Parallel(n_jobs=-1)]: Done  64 tasks      | elapsed:  1.2min\n",
      "[Parallel(n_jobs=-1)]: Done  65 tasks      | elapsed:  1.2min\n",
      "[Parallel(n_jobs=-1)]: Done  66 tasks      | elapsed:  1.2min\n",
      "[Parallel(n_jobs=-1)]: Done  67 tasks      | elapsed:  1.2min\n",
      "[Parallel(n_jobs=-1)]: Done  68 tasks      | elapsed:  1.3min\n",
      "[Parallel(n_jobs=-1)]: Done  69 tasks      | elapsed:  1.3min\n",
      "[Parallel(n_jobs=-1)]: Done  70 tasks      | elapsed:  1.3min\n",
      "[Parallel(n_jobs=-1)]: Done  71 tasks      | elapsed:  1.3min\n",
      "[Parallel(n_jobs=-1)]: Done  72 tasks      | elapsed:  1.3min\n",
      "[Parallel(n_jobs=-1)]: Done  73 tasks      | elapsed:  1.3min\n",
      "[Parallel(n_jobs=-1)]: Done  74 tasks      | elapsed:  1.4min\n",
      "[Parallel(n_jobs=-1)]: Done  75 tasks      | elapsed:  1.4min\n",
      "[Parallel(n_jobs=-1)]: Done  76 tasks      | elapsed:  1.4min\n",
      "[Parallel(n_jobs=-1)]: Done  77 tasks      | elapsed:  1.5min\n",
      "[Parallel(n_jobs=-1)]: Done  78 tasks      | elapsed:  1.5min\n",
      "[Parallel(n_jobs=-1)]: Done  79 tasks      | elapsed:  1.5min\n",
      "[Parallel(n_jobs=-1)]: Done  80 tasks      | elapsed:  1.5min\n",
      "[Parallel(n_jobs=-1)]: Done  81 tasks      | elapsed:  1.5min\n",
      "[Parallel(n_jobs=-1)]: Done  82 tasks      | elapsed:  1.6min\n",
      "[Parallel(n_jobs=-1)]: Done  83 tasks      | elapsed:  1.6min\n",
      "[Parallel(n_jobs=-1)]: Done  84 tasks      | elapsed:  1.6min\n",
      "[Parallel(n_jobs=-1)]: Done  85 tasks      | elapsed:  1.6min\n",
      "[Parallel(n_jobs=-1)]: Done  86 tasks      | elapsed:  1.7min\n",
      "[Parallel(n_jobs=-1)]: Done  87 tasks      | elapsed:  1.7min\n",
      "[Parallel(n_jobs=-1)]: Done  88 tasks      | elapsed:  1.7min\n",
      "[Parallel(n_jobs=-1)]: Done  89 tasks      | elapsed:  1.7min\n",
      "[Parallel(n_jobs=-1)]: Done  90 tasks      | elapsed:  1.7min\n",
      "[Parallel(n_jobs=-1)]: Done  91 tasks      | elapsed:  1.7min\n",
      "[Parallel(n_jobs=-1)]: Done  92 tasks      | elapsed:  1.8min\n",
      "[Parallel(n_jobs=-1)]: Done  93 tasks      | elapsed:  1.8min\n",
      "[Parallel(n_jobs=-1)]: Done  94 tasks      | elapsed:  1.8min\n",
      "[Parallel(n_jobs=-1)]: Done  95 tasks      | elapsed:  1.8min\n",
      "[Parallel(n_jobs=-1)]: Done  96 tasks      | elapsed:  1.8min\n",
      "[Parallel(n_jobs=-1)]: Done  97 tasks      | elapsed:  1.8min\n",
      "[Parallel(n_jobs=-1)]: Done 100 out of 100 | elapsed:  1.9min finished\n",
      "C:\\Users\\KUMAR\\Anaconda3_1\\lib\\site-packages\\sklearn\\model_selection\\_search.py:794: DeprecationWarning: `np.int` is a deprecated alias for the builtin `int`. To silence this warning, use `int` by itself. Doing this will not modify any behavior and is safe. When replacing `np.int`, you may wish to use e.g. `np.int64` or `np.int32` to specify the precision. If you wish to review your current use, check the release note link for additional information.\n",
      "Deprecated in NumPy 1.20; for more details and guidance: https://numpy.org/devdocs/release/1.20.0-notes.html#deprecations\n",
      "  dtype=np.int)\n"
     ]
    },
    {
     "data": {
      "text/plain": [
       "RandomizedSearchCV(cv=10, error_score='raise-deprecating',\n",
       "                   estimator=LogisticRegression(C=1.0, class_weight=None,\n",
       "                                                dual=False, fit_intercept=True,\n",
       "                                                intercept_scaling=1,\n",
       "                                                l1_ratio=None, max_iter=100,\n",
       "                                                multi_class='warn', n_jobs=None,\n",
       "                                                penalty='l2', random_state=None,\n",
       "                                                solver='warn', tol=0.0001,\n",
       "                                                verbose=0, warm_start=False),\n",
       "                   iid='warn', n_iter=10, n_jobs=-1,\n",
       "                   param_distributio...\n",
       "       7.879e+01, 7.980e+01, 8.081e+01, 8.182e+01, 8.283e+01, 8.384e+01,\n",
       "       8.485e+01, 8.586e+01, 8.687e+01, 8.788e+01, 8.889e+01, 8.990e+01,\n",
       "       9.091e+01, 9.192e+01, 9.293e+01, 9.394e+01, 9.495e+01, 9.596e+01,\n",
       "       9.697e+01, 9.798e+01, 9.899e+01, 1.000e+02]),\n",
       "                                        'class_weight': ['balanced', None],\n",
       "                                        'penalty': ['l1', 'l2']},\n",
       "                   pre_dispatch='2*n_jobs', random_state=None, refit=True,\n",
       "                   return_train_score=False, scoring='roc_auc', verbose=20)"
      ]
     },
     "execution_count": 32,
     "metadata": {},
     "output_type": "execute_result"
    }
   ],
   "source": [
    "rs.fit(x_train,y_train)"
   ]
  },
  {
   "cell_type": "code",
   "execution_count": 33,
   "metadata": {},
   "outputs": [],
   "source": [
    "submissions=pd.DataFrame({'Junk':rs.predict_proba(x_test)[:,1]})\n",
    "submissions.to_csv('submission.csv',index=False)"
   ]
  }
 ],
 "metadata": {
  "kernelspec": {
   "display_name": "Python 3",
   "language": "python",
   "name": "python3"
  },
  "language_info": {
   "codemirror_mode": {
    "name": "ipython",
    "version": 3
   },
   "file_extension": ".py",
   "mimetype": "text/x-python",
   "name": "python",
   "nbconvert_exporter": "python",
   "pygments_lexer": "ipython3",
   "version": "3.7.4"
  }
 },
 "nbformat": 4,
 "nbformat_minor": 2
}
